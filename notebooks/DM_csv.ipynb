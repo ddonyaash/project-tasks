{
 "cells": [
  {
   "cell_type": "code",
   "execution_count": 1,
   "id": "7587ced7-5d75-43a6-964e-97498e7f0b72",
   "metadata": {},
   "outputs": [],
   "source": [
    "import psycopg2\n",
    "import time\n",
    "import pandas as pd"
   ]
  },
  {
   "cell_type": "code",
   "execution_count": 2,
   "id": "675b3246-ddd3-4e98-86f2-a66b773b9c52",
   "metadata": {},
   "outputs": [],
   "source": [
    "# Параметры подключеник к БД\n",
    "conn_params = {\n",
    "    \"user\": \"your_username\",\n",
    "    \"password\": \"your_password\",\n",
    "    \"host\": \"postgres\",\n",
    "    \"port\": \"5432\",\n",
    "    \"database\": \"docker_postgres_db\",\n",
    "}"
   ]
  },
  {
   "cell_type": "code",
   "execution_count": 3,
   "id": "ae4791f9-d289-4cac-afaf-11a194d0bc1e",
   "metadata": {},
   "outputs": [],
   "source": [
    "def export_to_csv(table_name, file_path, conn_params):\n",
    "    \"\"\"\n",
    "    Транзакция: экспорт данных в CSV из таблицы БД и логирование процесса в LOGS.LOGS,\n",
    "    откат транзакции в случае ошибки.\n",
    "\n",
    "    Parameters:\n",
    "    - table_name (str): Таблица в БД для экспорта данных.\n",
    "    - file_path (str): Путь к CSV (абсолютный).\n",
    "    - conn_params (dict): Параметры подключеник к БД.\n",
    "\n",
    "    Returns:\n",
    "    None\n",
    "    \"\"\"\n",
    "    conn = None\n",
    "    query = f\"COPY {table_name} TO '{file_path}' WITH CSV HEADER;\"\n",
    "    start_time = time.strftime('%Y-%m-%d %H:%M:%S')\n",
    "    try:\n",
    "        conn = psycopg2.connect(**conn_params)\n",
    "        cursor = conn.cursor()\n",
    "        \n",
    "        cursor.execute(\"BEGIN TRANSACTION ISOLATION LEVEL READ COMMITTED;\")\n",
    "\n",
    "        cursor.execute(query)\n",
    "        rows_count = cursor.rowcount\n",
    "        conn.commit()\n",
    "        \n",
    "        end_time = time.strftime('%Y-%m-%d %H:%M:%S')\n",
    "        status = 'Export to csv finished'\n",
    "        error_message = None\n",
    "\n",
    "    except (Exception, psycopg2.DatabaseError) as error:\n",
    "        print(f\"Error: {error}\")\n",
    "        if conn:\n",
    "            conn.rollback()\n",
    "\n",
    "        end_time = time.strftime('%Y-%m-%d %H:%M:%S')\n",
    "        status = 'Export to csv failed'\n",
    "        rows_count = None\n",
    "        error_message = str(error)\n",
    "\n",
    "    finally:\n",
    "        if conn:\n",
    "            cursor.execute(\n",
    "                \"INSERT INTO LOGS.LOGS (table_name, start_time, end_time, status, rows_count, file_path, error_message) \"\n",
    "                \"VALUES (%s, %s, %s, %s, %s, %s, %s)\",\n",
    "                (table_name, start_time, end_time, status, rows_count, file_path, error_message)\n",
    "            )\n",
    "            conn.commit()\n",
    "            cursor.close()\n",
    "            conn.close()"
   ]
  },
  {
   "cell_type": "code",
   "execution_count": null,
   "id": "4c706374-427e-4e2c-8e2c-c54dd4adcdf2",
   "metadata": {},
   "outputs": [],
   "source": []
  },
  {
   "cell_type": "code",
   "execution_count": 4,
   "id": "6ef1dfa5-9996-40e6-98c1-44b0e1d85fb1",
   "metadata": {},
   "outputs": [],
   "source": [
    "def import_from_csv(table_name, file_path, conn_params, truncate=False):\n",
    "    \"\"\"\n",
    "    Транзакция: импорт данных из CSV в таблицу БД и логирование процесса в LOGS.LOGS,\n",
    "    откат транзакции в случае ошибки.\n",
    "\n",
    "    Parameters:\n",
    "    - table_name (str): Таблица в БД для импорта данных.\n",
    "    - file_path (str): Путь к CSV(абсолютный или относительный).\n",
    "    - conn_params (dict): Параметры подключеник к БД.\n",
    "    - truncate (bool): Если True, очистить таблицу перед копированием данных.\n",
    "\n",
    "    Returns:\n",
    "    None\n",
    "    \"\"\"\n",
    "    conn = None\n",
    "    query = f\"COPY {table_name} FROM '{file_path}' DELIMITER ',' CSV HEADER;\"\n",
    "    start_time = time.strftime('%Y-%m-%d %H:%M:%S')\n",
    "    try:\n",
    "        conn = psycopg2.connect(**conn_params)\n",
    "        cursor = conn.cursor()\n",
    "        \n",
    "        cursor.execute(\"BEGIN TRANSACTION ISOLATION LEVEL READ COMMITTED;\")\n",
    "\n",
    "        if truncate == True:\n",
    "            cursor.execute(f\"TRUNCATE {table_name};\")\n",
    "\n",
    "        cursor.execute(query)\n",
    "        rows_count = cursor.rowcount\n",
    "        conn.commit()\n",
    "        \n",
    "        end_time = time.strftime('%Y-%m-%d %H:%M:%S')\n",
    "        status = 'Import from csv finished'\n",
    "        error_message = None\n",
    "\n",
    "    except (Exception, psycopg2.DatabaseError) as error:\n",
    "        print(f\"Error: {error}\")\n",
    "        if conn:\n",
    "            conn.rollback()\n",
    "\n",
    "        end_time = time.strftime('%Y-%m-%d %H:%M:%S')\n",
    "        status = 'Import from csv failed'\n",
    "        rows_count = None\n",
    "        error_message = str(error)\n",
    "\n",
    "    finally:\n",
    "        if conn:\n",
    "            cursor.execute(\n",
    "                \"INSERT INTO LOGS.LOGS (table_name, start_time, end_time, status, rows_count, file_path, error_message) \"\n",
    "                \"VALUES (%s, %s, %s, %s, %s, %s, %s)\",\n",
    "                (table_name, start_time, end_time, status, rows_count, file_path, error_message)\n",
    "            )\n",
    "            conn.commit()\n",
    "            cursor.close()\n",
    "            conn.close()"
   ]
  },
  {
   "cell_type": "code",
   "execution_count": 5,
   "id": "9d33069a-e433-441a-9f9e-fd455aee35a6",
   "metadata": {},
   "outputs": [
    {
     "name": "stdout",
     "output_type": "stream",
     "text": [
      "Error: relative path not allowed for COPY to file\n",
      "\n"
     ]
    }
   ],
   "source": [
    "export_to_csv('dm.dm_f101_round_f', '/var/lib/postgresql/data/pgdata/data/f101_round_f_export.csv', conn_params)\n",
    "export_to_csv('dm.dm_f101_round_f', 'data/f101_round_f_export.csv', conn_params) # проверка exception"
   ]
  },
  {
   "cell_type": "code",
   "execution_count": 6,
   "id": "ccb4c0be-a12f-40a1-94cd-37a0f166ee2f",
   "metadata": {},
   "outputs": [
    {
     "name": "stdout",
     "output_type": "stream",
     "text": [
      "Error: could not open file \"data/f101_round_f_export2.csv\" for reading: No such file or directory\n",
      "HINT:  COPY FROM instructs the PostgreSQL server process to read a file. You may want a client-side facility such as psql's \\copy.\n",
      "\n"
     ]
    }
   ],
   "source": [
    "import_from_csv('dm.dm_f101_round_f_v2', 'data/f101_round_f_export.csv', conn_params, truncate=True)\n",
    "import_from_csv('dm.dm_f101_round_f_v2', 'data/f101_round_f_export2.csv', conn_params, truncate=True) # проверка exception"
   ]
  },
  {
   "cell_type": "code",
   "execution_count": null,
   "id": "9e00115e-8b04-41f7-9e9a-069cd1cb71f5",
   "metadata": {},
   "outputs": [],
   "source": []
  }
 ],
 "metadata": {
  "kernelspec": {
   "display_name": "Python 3 (ipykernel)",
   "language": "python",
   "name": "python3"
  },
  "language_info": {
   "codemirror_mode": {
    "name": "ipython",
    "version": 3
   },
   "file_extension": ".py",
   "mimetype": "text/x-python",
   "name": "python",
   "nbconvert_exporter": "python",
   "pygments_lexer": "ipython3",
   "version": "3.11.6"
  }
 },
 "nbformat": 4,
 "nbformat_minor": 5
}
