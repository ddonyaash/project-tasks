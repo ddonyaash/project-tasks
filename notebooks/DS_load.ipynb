{
 "cells": [
  {
   "cell_type": "code",
   "execution_count": 1,
   "id": "d915b561-f900-4017-9c43-3ffc273c8678",
   "metadata": {},
   "outputs": [],
   "source": [
    "import psycopg2\n",
    "import time\n",
    "import pandas as pd"
   ]
  },
  {
   "cell_type": "code",
   "execution_count": 2,
   "id": "e43d68bd-ad90-4d6a-8192-b439210b9274",
   "metadata": {},
   "outputs": [],
   "source": [
    "# Смена кодировки для csv MD_LEDGER_ACCOUNT_S и MD_CURRENCY_D\n",
    "df = pd.read_csv(\"data/md_ledger_account_s.csv\", delimiter=\";\", encoding=\"cp866\")\n",
    "df.to_csv(\"data/md_ledger_account_s_1.csv\", sep=\";\", encoding=\"utf-8\", index=False)\n",
    "df = pd.read_csv(\"data/md_currency_d.csv\", delimiter=\";\", encoding=\"cp866\")\n",
    "df.to_csv(\"data/md_currency_d_1.csv\", sep=\";\", encoding=\"utf-8\", index=False)\n",
    "del df"
   ]
  },
  {
   "cell_type": "code",
   "execution_count": 3,
   "id": "be549549-afee-44da-9bf8-95d7603f43fa",
   "metadata": {},
   "outputs": [],
   "source": [
    "# Параметры подключеник к БД\n",
    "conn_params = {\n",
    "    \"user\": \"your_username\",\n",
    "    \"password\": \"your_password\",\n",
    "    \"host\": \"postgres\",\n",
    "    \"port\": \"5432\",\n",
    "    \"database\": \"docker_postgres_db\",\n",
    "}"
   ]
  },
  {
   "cell_type": "code",
   "execution_count": 4,
   "id": "5cae7cf0-9941-424e-9ede-33b391435a8f",
   "metadata": {},
   "outputs": [],
   "source": [
    "def load_data_to_source(table_name, file_path, conn_params, truncate=False):\n",
    "    \"\"\"\n",
    "    Транзакция: копирование сырых данных из CSV в схему SOURCE БД и логирование процесса в LOGS.LOGS,\n",
    "    откат транзакции в случае ошибки.\n",
    "\n",
    "    Parameters:\n",
    "    - table_name (str): Таблица в БД для вставки сырых данных.\n",
    "    - file_path (str): Путь к CSV.\n",
    "    - conn_params (dict): Параметры подключеник к БД.\n",
    "    - truncate (bool): Если True, очистить таблицу перед копированием данных.\n",
    "\n",
    "    Returns:\n",
    "    None\n",
    "    \"\"\"\n",
    "    conn = None\n",
    "    df = pd.read_csv(file_path, delimiter=';')\n",
    "    df.rename(columns={df.columns.values[0]: 'ID'}, inplace=True)\n",
    "    columns = ','.join(df.columns.tolist())\n",
    "    query = f\"COPY {table_name}({columns}) FROM '{file_path}' DELIMITER ';' CSV HEADER;\"\n",
    "    start_time = time.strftime('%Y-%m-%d %H:%M:%S')\n",
    "    try:\n",
    "        conn = psycopg2.connect(**conn_params)\n",
    "        cursor = conn.cursor()\n",
    "        \n",
    "        cursor.execute(\"BEGIN TRANSACTION ISOLATION LEVEL READ COMMITTED;\")\n",
    "\n",
    "        if truncate == True:\n",
    "            cursor.execute(f\"TRUNCATE {table_name};\")\n",
    "\n",
    "        cursor.execute(query)\n",
    "        rows_count = cursor.rowcount\n",
    "        conn.commit()\n",
    "\n",
    "        time.sleep(5)\n",
    "        \n",
    "        end_time = time.strftime('%Y-%m-%d %H:%M:%S')\n",
    "        status = 'Loading finished'\n",
    "        error_message = None\n",
    "\n",
    "    except (Exception, psycopg2.DatabaseError) as error:\n",
    "        print(f\"Error: {error}\")\n",
    "        if conn:\n",
    "            conn.rollback()\n",
    "\n",
    "        end_time = time.strftime('%Y-%m-%d %H:%M:%S')\n",
    "        status = 'Loading failed'\n",
    "        rows_count = None\n",
    "        error_message = str(error)\n",
    "\n",
    "    finally:\n",
    "        if conn:\n",
    "            cursor.execute(\n",
    "                \"INSERT INTO LOGS.LOGS (table_name, start_time, end_time, status, rows_count, file_path, error_message) \"\n",
    "                \"VALUES (%s, %s, %s, %s, %s, %s, %s)\",\n",
    "                (table_name, start_time, end_time, status, rows_count, file_path, error_message)\n",
    "            )\n",
    "            conn.commit()\n",
    "            cursor.close()\n",
    "            conn.close()"
   ]
  },
  {
   "cell_type": "code",
   "execution_count": 5,
   "id": "f94d2add-02d4-41ba-823e-228bc0e72f86",
   "metadata": {},
   "outputs": [],
   "source": [
    "def load_data_to_ds(table_name, file_path, conn_params):\n",
    "    \"\"\"\n",
    "    Транзакция: вставка данных из таблицы схемы SOURCE БД в таблицу схемы DS БД и логирование процесса в LOGS.LOGS,\n",
    "    откат транзакции в случае ошибки.\n",
    "\n",
    "    Parameters:\n",
    "    - table_name (str): Таблица в схеме DS БД для вставки данных из таблицы схемы SOURCE.\n",
    "    - file_path (str): Путь к SQL-файлу (очистка сырых данных таблицы SOURCE, преобразование форматов, запись в режиме вставка или замена) .\n",
    "    - conn_params (dict): Параметры подключеник к БД.\n",
    "\n",
    "    Returns:\n",
    "    None\n",
    "    \"\"\"\n",
    "    conn = None\n",
    "    start_time = time.strftime('%Y-%m-%d %H:%M:%S')\n",
    "    try:\n",
    "        conn = psycopg2.connect(**conn_params)\n",
    "        cursor = conn.cursor()\n",
    "\n",
    "        cursor.execute(\"BEGIN TRANSACTION ISOLATION LEVEL READ COMMITTED;\")\n",
    "\n",
    "        with open(file_path, 'r') as file:\n",
    "            query = file.read()\n",
    "\n",
    "        cursor.execute(query)\n",
    "        rows_count = cursor.rowcount  # Get the number of rows inserted\n",
    "        conn.commit()\n",
    "\n",
    "        end_time = time.strftime('%Y-%m-%d %H:%M:%S')\n",
    "        status = 'Update finished'\n",
    "        error_message = None\n",
    "\n",
    "    except (Exception, psycopg2.DatabaseError) as error:\n",
    "        print(f\"Error: {error}\")\n",
    "        if conn:\n",
    "            conn.rollback()\n",
    "\n",
    "        end_time = time.strftime('%Y-%m-%d %H:%M:%S')\n",
    "        status = 'Update failed'\n",
    "        rows_count = None\n",
    "        error_message = str(error)\n",
    "\n",
    "    finally:\n",
    "        if conn:\n",
    "            cursor.execute(\n",
    "                \"INSERT INTO LOGS.LOGS (table_name, start_time, end_time, status, rows_count, file_path, error_message) \"\n",
    "                \"VALUES (%s, %s, %s, %s, %s, %s, %s)\",\n",
    "                (table_name, start_time, end_time, status, rows_count, file_path, error_message)\n",
    "            )\n",
    "            conn.commit()\n",
    "            cursor.close()\n",
    "            conn.close()"
   ]
  },
  {
   "cell_type": "code",
   "execution_count": 6,
   "id": "c632bdf5-5474-41e3-94f2-1157d4c5f16e",
   "metadata": {},
   "outputs": [
    {
     "name": "stdout",
     "output_type": "stream",
     "text": [
      "Error: relation \"source.md_currency_d_1\" does not exist\n",
      "\n",
      "Error: relation \"source.md_ledger_account_s_1\" does not exist\n",
      "\n",
      "Error: [Errno 2] No such file or directory: 'sql_script/DS.MD_CURRENCY_D1.sql'\n",
      "Error: [Errno 2] No such file or directory: 'sql_script/DS.MD_LEDGER_ACCOUNT_S1.sql'\n"
     ]
    }
   ],
   "source": [
    "# Загрузка данных в схемы SOURCE и DS\n",
    "load_data_to_source('SOURCE.FT_BALANCE_F', 'data/ft_balance_f.csv', conn_params)\n",
    "load_data_to_source('SOURCE.FT_POSTING_F', 'data/ft_posting_f.csv', conn_params)\n",
    "load_data_to_source('SOURCE.MD_ACCOUNT_D', 'data/md_account_d.csv', conn_params)\n",
    "load_data_to_source('SOURCE.MD_CURRENCY_D_1', 'data/md_currency_d_1.csv', conn_params) # проверка exception\n",
    "load_data_to_source('SOURCE.MD_CURRENCY_D', 'data/md_currency_d_1.csv', conn_params) \n",
    "load_data_to_source('SOURCE.MD_EXCHANGE_RATE_D', 'data/md_exchange_rate_d.csv', conn_params)\n",
    "load_data_to_source('SOURCE.MD_LEDGER_ACCOUNT_S_1', 'data/md_ledger_account_s_1.csv', conn_params) # проверка exception\n",
    "load_data_to_source('SOURCE.MD_LEDGER_ACCOUNT_S', 'data/md_ledger_account_s_1.csv', conn_params)\n",
    "\n",
    "load_data_to_ds('DS.FT_BALANCE_F', 'sql_script/DS.FT_BALANCE_F.sql', conn_params)\n",
    "load_data_to_ds('DS.FT_POSTING_F', 'sql_script/DS.FT_POSTING_F.sql', conn_params)\n",
    "load_data_to_ds('DS.MD_ACCOUNT_D', 'sql_script/DS.MD_ACCOUNT_D.sql', conn_params)\n",
    "load_data_to_ds('DS.MD_CURRENCY_D', 'sql_script/DS.MD_CURRENCY_D1.sql', conn_params) # проверка exception\n",
    "load_data_to_ds('DS.MD_CURRENCY_D', 'sql_script/DS.MD_CURRENCY_D.sql', conn_params)\n",
    "load_data_to_ds('DS.MD_EXCHANGE_RATE_D', 'sql_script/DS.MD_EXCHANGE_RATE_D.sql', conn_params)\n",
    "load_data_to_ds('DS.MD_LEDGER_ACCOUNT_S', 'sql_script/DS.MD_LEDGER_ACCOUNT_S1.sql', conn_params) # проверка exception\n",
    "load_data_to_ds('DS.MD_LEDGER_ACCOUNT_S', 'sql_script/DS.MD_LEDGER_ACCOUNT_S.sql', conn_params)"
   ]
  },
  {
   "cell_type": "code",
   "execution_count": 7,
   "id": "a3cc9412-6b27-49bf-b8ef-caa5b97e7c45",
   "metadata": {},
   "outputs": [],
   "source": [
    "# Проверка режима запись или замена для DS.FT_BALANCE_F\n",
    "load_data_to_source('SOURCE.FT_BALANCE_F', 'data/ft_balance_f.csv', conn_params, truncate=True)\n",
    "load_data_to_ds('DS.FT_BALANCE_F', 'sql_script/DS.FT_BALANCE_F.sql', conn_params)"
   ]
  },
  {
   "cell_type": "code",
   "execution_count": null,
   "id": "606d0f35-effc-4523-adb4-0ba9e1510a85",
   "metadata": {},
   "outputs": [],
   "source": [
    "\n"
   ]
  },
  {
   "cell_type": "code",
   "execution_count": null,
   "id": "92d7ffb6-a9a5-4bb1-92bb-8692cec3e968",
   "metadata": {},
   "outputs": [],
   "source": []
  },
  {
   "cell_type": "code",
   "execution_count": null,
   "id": "57494057-e021-451e-8100-b3ea31ee80ed",
   "metadata": {},
   "outputs": [],
   "source": []
  },
  {
   "cell_type": "code",
   "execution_count": null,
   "id": "0308e8b8-d2de-4427-b42a-7d8d58852dc7",
   "metadata": {},
   "outputs": [],
   "source": []
  },
  {
   "cell_type": "code",
   "execution_count": null,
   "id": "4eb52879-dd87-4c37-b12f-bc9046657ce5",
   "metadata": {},
   "outputs": [],
   "source": []
  }
 ],
 "metadata": {
  "kernelspec": {
   "display_name": "Python 3 (ipykernel)",
   "language": "python",
   "name": "python3"
  },
  "language_info": {
   "codemirror_mode": {
    "name": "ipython",
    "version": 3
   },
   "file_extension": ".py",
   "mimetype": "text/x-python",
   "name": "python",
   "nbconvert_exporter": "python",
   "pygments_lexer": "ipython3",
   "version": "3.11.6"
  }
 },
 "nbformat": 4,
 "nbformat_minor": 5
}
